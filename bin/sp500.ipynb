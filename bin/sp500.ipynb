{
 "cells": [
  {
   "cell_type": "code",
   "execution_count": 1,
   "metadata": {},
   "outputs": [
    {
     "name": "stdout",
     "output_type": "stream",
     "text": [
      "['/info', '/web']\r\n",
      "Closing remaining open files:/tmp/tmpgyjbbv4_.h5...done\r\n"
     ]
    }
   ],
   "source": [
    "!./sp500 list store"
   ]
  },
  {
   "cell_type": "code",
   "execution_count": 2,
   "metadata": {},
   "outputs": [
    {
     "name": "stdout",
     "output_type": "stream",
     "text": [
      "['symbol', 'security_name', 'gcis_sector', 'gcis_subsector', 'hq_address', 'date_added', 'cik']\r\n",
      "Closing remaining open files:/tmp/tmpdylcgx9i.h5...done\r\n"
     ]
    }
   ],
   "source": [
    "!./sp500 list table info"
   ]
  },
  {
   "cell_type": "code",
   "execution_count": 3,
   "metadata": {},
   "outputs": [
    {
     "name": "stdout",
     "output_type": "stream",
     "text": [
      "    symbol                                          wikipedia  \\\r\n",
      "0      MMM                    http://en.wikipedia.org/wiki/3M   \r\n",
      "1      ABT   http://en.wikipedia.org/wiki/Abbott_Laboratories   \r\n",
      "2     ABBV           http://en.wikipedia.org/wiki/AbbVie_Inc.   \r\n",
      "3      ACN         http://en.wikipedia.org/wiki/Accenture_plc   \r\n",
      "4     ATVI   http://en.wikipedia.org/wiki/Activision_Blizzard   \r\n",
      "5      AYI     http://en.wikipedia.org/wiki/Acuity_Brands_Inc   \r\n",
      "6     ADBE     http://en.wikipedia.org/wiki/Adobe_Systems_Inc   \r\n",
      "7      AMD  http://en.wikipedia.org/wiki/Advanced_Micro_De...   \r\n",
      "8      AAP    http://en.wikipedia.org/wiki/Advance_Auto_Parts   \r\n",
      "9      AES              http://en.wikipedia.org/wiki/AES_Corp   \r\n",
      "10     AET             http://en.wikipedia.org/wiki/Aetna_Inc   \r\n",
      "11     AMG  http://en.wikipedia.org/wiki/Affiliated_Manage...   \r\n",
      "12     AFL             http://en.wikipedia.org/wiki/AFLAC_Inc   \r\n",
      "13       A  http://en.wikipedia.org/wiki/Agilent_Technolog...   \r\n",
      "14     APD  http://en.wikipedia.org/wiki/Air_Products_%26_...   \r\n",
      "15    AKAM  http://en.wikipedia.org/wiki/Akamai_Technologi...   \r\n",
      "16     ALK  http://en.wikipedia.org/wiki/Alaska_Air_Group_Inc   \r\n",
      "17     ALB        http://en.wikipedia.org/wiki/Albemarle_Corp   \r\n",
      "18     ARE  http://en.wikipedia.org/w/index.php?title=Alex...   \r\n",
      "19    ALXN  http://en.wikipedia.org/wiki/Alexion_Pharmaceu...   \r\n",
      "20    ALGN      http://en.wikipedia.org/wiki/Align_Technology   \r\n",
      "21    ALLE              http://en.wikipedia.org/wiki/Allegion   \r\n",
      "22     AGN         http://en.wikipedia.org/wiki/Allergan,_Plc   \r\n",
      "23     ADS  http://en.wikipedia.org/wiki/Alliance_Data_Sys...   \r\n",
      "24     LNT   http://en.wikipedia.org/wiki/Alliant_Energy_Corp   \r\n",
      "25     ALL         http://en.wikipedia.org/wiki/Allstate_Corp   \r\n",
      "26   GOOGL         http://en.wikipedia.org/wiki/Alphabet_Inc.   \r\n",
      "27    GOOG         http://en.wikipedia.org/wiki/Alphabet_Inc.   \r\n",
      "28      MO      http://en.wikipedia.org/wiki/Altria_Group_Inc   \r\n",
      "29    AMZN        http://en.wikipedia.org/wiki/Amazon.com_Inc   \r\n",
      "..     ...                                                ...   \r\n",
      "475   VIAB           http://en.wikipedia.org/wiki/Viacom_Inc.   \r\n",
      "476      V             http://en.wikipedia.org/wiki/Visa_Inc.   \r\n",
      "477    VNO  http://en.wikipedia.org/wiki/Vornado_Realty_Trust   \r\n",
      "478    VMC      http://en.wikipedia.org/wiki/Vulcan_Materials   \r\n",
      "479    WMT       http://en.wikipedia.org/wiki/Wal-Mart_Stores   \r\n",
      "480    WBA  http://en.wikipedia.org/wiki/Walgreens_Boots_A...   \r\n",
      "481    DIS  http://en.wikipedia.org/wiki/The_Walt_Disney_C...   \r\n",
      "482     WM  http://en.wikipedia.org/wiki/Waste_Management_...   \r\n",
      "483    WAT    http://en.wikipedia.org/wiki/Waters_Corporation   \r\n",
      "484    WEC  http://en.wikipedia.org/wiki/Wec_Energy_Group_Inc   \r\n",
      "485    WFC           http://en.wikipedia.org/wiki/Wells_Fargo   \r\n",
      "486    HCN        http://en.wikipedia.org/wiki/Welltower_Inc.   \r\n",
      "487    WDC       http://en.wikipedia.org/wiki/Western_Digital   \r\n",
      "488     WU      http://en.wikipedia.org/wiki/Western_Union_Co   \r\n",
      "489    WRK      http://en.wikipedia.org/wiki/WestRock_Company   \r\n",
      "490     WY    http://en.wikipedia.org/wiki/Weyerhaeuser_Corp.   \r\n",
      "491    WHR       http://en.wikipedia.org/wiki/Whirlpool_Corp.   \r\n",
      "492    WMB         http://en.wikipedia.org/wiki/Williams_Cos.   \r\n",
      "493   WLTW  http://en.wikipedia.org/wiki/Willis_Towers_Watson   \r\n",
      "494    WYN     http://en.wikipedia.org/wiki/Wyndham_Worldwide   \r\n",
      "495   WYNN          http://en.wikipedia.org/wiki/Wynn_Resorts   \r\n",
      "496    XEL       http://en.wikipedia.org/wiki/Xcel_Energy_Inc   \r\n",
      "497    XRX           http://en.wikipedia.org/wiki/Xerox_Corp.   \r\n",
      "498   XLNX            http://en.wikipedia.org/wiki/Xilinx_Inc   \r\n",
      "499     XL            http://en.wikipedia.org/wiki/XL_Capital   \r\n",
      "500    XYL            http://en.wikipedia.org/wiki/Xylem_Inc.   \r\n",
      "501    YUM       http://en.wikipedia.org/wiki/Yum!_Brands_Inc   \r\n",
      "502    ZBH       http://en.wikipedia.org/wiki/Zimmer_Holdings   \r\n",
      "503   ZION         http://en.wikipedia.org/wiki/Zions_Bancorp   \r\n",
      "504    ZTS                http://en.wikipedia.org/wiki/Zoetis   \r\n",
      "\r\n",
      "                                 website                               twitter  \r\n",
      "0                      http://www.3m.com                https://twitter.com/3M  \r\n",
      "1                  http://www.abbott.com      https://twitter.com/abbottglobal  \r\n",
      "2                      http://abbvie.com            https://twitter.com/abbvie  \r\n",
      "3              http://www.accenture.com/   https://twitter.com/Accenturecanada  \r\n",
      "4     http://www.activisionblizzard.com/          https://twitter.com/@ATVI_AB  \r\n",
      "5            http://www.acuitybrands.com      https://twitter.com/acuitybrands  \r\n",
      "6                 https://www.adobe.com/             https://twitter.com/Adobe  \r\n",
      "7                     http://www.amd.com               https://twitter.com/amd  \r\n",
      "8       http://www.advanceautoparts.com/       https://twitter.com/AdvanceAuto  \r\n",
      "9                     http://www.aes.com              //twitter.com/TheAESCorp  \r\n",
      "10                 http://www.aetna.com/          http://www.twitter.com/aetna  \r\n",
      "11                   http://www.amg.com/                                   NaN  \r\n",
      "12                      http://aflac.com             https://twitter.com/aflac  \r\n",
      "13                http://www.agilent.com            http://twitter.com/agilent  \r\n",
      "14               http://airproducts.com/    http://www.twitter.com/AirProducts  \r\n",
      "15               https://www.akamai.com/            https://twitter.com/Akamai  \r\n",
      "16             http://www.alaskaair.com/         https://twitter.com/alaskaair  \r\n",
      "17              http://www.albemarle.com  http://www.twitter.com/albemarlecorp  \r\n",
      "18                                   NaN                                   NaN  \r\n",
      "19                   http://www.alxn.com                                   NaN  \r\n",
      "20             http://www.aligntech.com/         http://twitter.com/Invisalign  \r\n",
      "21             http://www.allegion.com//       https://twitter.com/AllegionPlc  \r\n",
      "22               http://www.allergan.com                                   NaN  \r\n",
      "23          http://www.alliancedata.com/       http://twitter.com/alliancedata  \r\n",
      "24          http://www.alliantenergy.com                                   NaN  \r\n",
      "25               http://www.allstate.com       http://www.twitter.com/allstate  \r\n",
      "26                      https://abc.xyz/                                   NaN  \r\n",
      "27                      https://abc.xyz/                                   NaN  \r\n",
      "28                http://www.altria.com/                                   NaN  \r\n",
      "29                     http://amazon.com                                   NaN  \r\n",
      "..                                   ...                                   ...  \r\n",
      "475                http://www.viacom.com         http://www.twitter.com/viacom  \r\n",
      "476                      http://visa.com                                   NaN  \r\n",
      "477                  http://www.vno.com/                                   NaN  \r\n",
      "478      http://www.vulcanmaterials.com/                                   NaN  \r\n",
      "479        http://corporate.walmart.com/            http://twitter.com/walmart  \r\n",
      "480    http://walgreensbootsalliance.com                                   NaN  \r\n",
      "481     https://thewaltdisneycompany.com      https://twitter.com/waltdisneyco  \r\n",
      "482                    http://www.wm.com                                   NaN  \r\n",
      "483                http://www.waters.com                                   NaN  \r\n",
      "484        http://www.wecenergygroup.com    https://twitter.com/WECEnergyGroup  \r\n",
      "485          https://www.wellsfargo.com/        https://twitter.com/wellsfargo  \r\n",
      "486             http://www.welltower.com         https://twitter.com/Welltower  \r\n",
      "487                  https://www.wdc.com    https://twitter.com/westerndigital  \r\n",
      "488          http://www.westernunion.com          https://twitter.com/wucanada  \r\n",
      "489                  http://westrock.com          https://twitter.com/westrock  \r\n",
      "490         http://www.weyerhaeuser.com/                                   NaN  \r\n",
      "491         http://www.whirlpoolcorp.com     https://twitter.com/WhirlpoolCorp  \r\n",
      "492              http://www.williams.com   https://twitter.com/williamsupdates  \r\n",
      "493  https://www.willistowerswatson.com/      https://twitter.com/WTWcorporate  \r\n",
      "494          http://wyndhamworldwide.com                                   NaN  \r\n",
      "495               http://wynnresorts.com                                   NaN  \r\n",
      "496            http://www.xcelenergy.com      https://twitter.com/XcelEnergyMN  \r\n",
      "497               https://www.xerox.com/             https://twitter.com/Xerox  \r\n",
      "498                http://www.xilinx.com     https://www.twitter.com/XilinxInc  \r\n",
      "499               http://www.xlgroup.com          https://twitter.com/xlcatlin  \r\n",
      "500                 http://www.xylem.com          https://twitter.com/XylemInc  \r\n",
      "501                   http://www.yum.com                                   NaN  \r\n",
      "502         http://www.zimmerbiomet.com/      https://twitter.com/zimmerbiomet  \r\n",
      "503      http://zionsbancorporation.com/                                   NaN  \r\n",
      "504               http://www.zoetis.com/             http://twitter.com/zoetis  \r\n",
      "\r\n",
      "[505 rows x 4 columns]\r\n",
      "Closing remaining open files:/tmp/tmp324a0lfn.h5...done\r\n"
     ]
    }
   ],
   "source": [
    "!./sp500 show table web"
   ]
  },
  {
   "cell_type": "code",
   "execution_count": 4,
   "metadata": {},
   "outputs": [
    {
     "name": "stdout",
     "output_type": "stream",
     "text": [
      "   symbol            security_name  gcis_sector  \\\r\n",
      "16    ALK     Alaska Air Group Inc  Industrials   \r\n",
      "17    ALB           Albemarle Corp    Materials   \r\n",
      "19   ALXN  Alexion Pharmaceuticals  Health Care   \r\n",
      "20   ALGN         Align Technology  Health Care   \r\n",
      "21   ALLE                 Allegion  Industrials   \r\n",
      "25    ALL            Allstate Corp   Financials   \r\n",
      "\r\n",
      "                   gcis_subsector                     hq_address  date_added  \\\r\n",
      "16                       Airlines            Seattle, Washington  2016-05-13   \r\n",
      "17            Specialty Chemicals         Baton Rouge, Louisiana  2016-07-01   \r\n",
      "19                  Biotechnology          Cheshire, Connecticut  2012-05-25   \r\n",
      "20           Health Care Supplies           San Jose, California  2017-06-19   \r\n",
      "21              Building Products                Dublin, Ireland  2013-12-02   \r\n",
      "25  Property & Casualty Insurance  Northfield Township, Illinois               \r\n",
      "\r\n",
      "           cik                                          wikipedia  \\\r\n",
      "16  0000766421  http://en.wikipedia.org/wiki/Alaska_Air_Group_Inc   \r\n",
      "17  0000915913        http://en.wikipedia.org/wiki/Albemarle_Corp   \r\n",
      "19  0000899866  http://en.wikipedia.org/wiki/Alexion_Pharmaceu...   \r\n",
      "20  0001097149      http://en.wikipedia.org/wiki/Align_Technology   \r\n",
      "21  0001579241              http://en.wikipedia.org/wiki/Allegion   \r\n",
      "25  0000899051         http://en.wikipedia.org/wiki/Allstate_Corp   \r\n",
      "\r\n",
      "                      website                               twitter  \r\n",
      "16  http://www.alaskaair.com/         https://twitter.com/alaskaair  \r\n",
      "17   http://www.albemarle.com  http://www.twitter.com/albemarlecorp  \r\n",
      "19        http://www.alxn.com                                   nan  \r\n",
      "20  http://www.aligntech.com/         http://twitter.com/Invisalign  \r\n",
      "21  http://www.allegion.com//       https://twitter.com/AllegionPlc  \r\n",
      "25    http://www.allstate.com       http://www.twitter.com/allstate  \r\n",
      "Closing remaining open files:/tmp/tmplibj56hy.h5...done\r\n"
     ]
    }
   ],
   "source": [
    "!./sp500 show where \"^AL\""
   ]
  },
  {
   "cell_type": "code",
   "execution_count": 5,
   "metadata": {},
   "outputs": [
    {
     "name": "stdout",
     "output_type": "stream",
     "text": [
      "   symbol            security_name  gcis_sector        gcis_subsector  \\\r\n",
      "19   ALXN  Alexion Pharmaceuticals  Health Care         Biotechnology   \r\n",
      "20   ALGN         Align Technology  Health Care  Health Care Supplies   \r\n",
      "\r\n",
      "               hq_address  date_added         cik  \\\r\n",
      "19  Cheshire, Connecticut  2012-05-25  0000899866   \r\n",
      "20   San Jose, California  2017-06-19  0001097149   \r\n",
      "\r\n",
      "                                            wikipedia  \\\r\n",
      "19  http://en.wikipedia.org/wiki/Alexion_Pharmaceu...   \r\n",
      "20      http://en.wikipedia.org/wiki/Align_Technology   \r\n",
      "\r\n",
      "                      website                        twitter  \r\n",
      "19        http://www.alxn.com                            nan  \r\n",
      "20  http://www.aligntech.com/  http://twitter.com/Invisalign  \r\n",
      "Closing remaining open files:/tmp/tmp3g23bdq9.h5...done\r\n"
     ]
    }
   ],
   "source": [
    "!./sp500 show where \"^AL.*N$\""
   ]
  }
 ],
 "metadata": {
  "kernelspec": {
   "display_name": "Python 3",
   "language": "python",
   "name": "python3"
  },
  "language_info": {
   "codemirror_mode": {
    "name": "ipython",
    "version": 3
   },
   "file_extension": ".py",
   "mimetype": "text/x-python",
   "name": "python",
   "nbconvert_exporter": "python",
   "pygments_lexer": "ipython3",
   "version": "3.6.2"
  }
 },
 "nbformat": 4,
 "nbformat_minor": 2
}
